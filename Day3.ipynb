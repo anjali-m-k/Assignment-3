{
  "nbformat": 4,
  "nbformat_minor": 0,
  "metadata": {
    "colab": {
      "name": "Day3.ipynb",
      "provenance": []
    },
    "kernelspec": {
      "name": "python3",
      "display_name": "Python 3"
    }
  },
  "cells": [
    {
      "cell_type": "markdown",
      "metadata": {
        "id": "LeD3hRyFqoLa"
      },
      "source": [
        "Answer 1"
      ]
    },
    {
      "cell_type": "code",
      "metadata": {
        "id": "6Lay6DD9qTxk"
      },
      "source": [
        "import numpy as np\n",
        "x=np.arange(2,50,3)\n",
        "print(x)"
      ],
      "execution_count": null,
      "outputs": []
    },
    {
      "cell_type": "markdown",
      "metadata": {
        "id": "QSnrTeUFrBeD"
      },
      "source": [
        "Answer 2"
      ]
    },
    {
      "cell_type": "code",
      "metadata": {
        "id": "UhfEyHLarDj8"
      },
      "source": [
        "import numpy as np\n",
        "A=list(int(item) for item in input().split())\n",
        "B=list(int(item) for item in input().split())\n",
        "A=np.array(A)\n",
        "B=np.array(B)\n",
        "C=np.concatenate((A,B))\n",
        "print(C)\n",
        "C=np.sort(C)\n",
        "print(C)\n",
        "\n",
        "\n"
      ],
      "execution_count": null,
      "outputs": []
    },
    {
      "cell_type": "markdown",
      "metadata": {
        "id": "7B7YIlwqQjMN"
      },
      "source": [
        "Answer 3"
      ]
    },
    {
      "cell_type": "code",
      "metadata": {
        "id": "f7dNozJfQls6",
        "outputId": "b101431a-d798-4574-c6db-68485fdac72a",
        "colab": {
          "base_uri": "https://localhost:8080/"
        }
      },
      "source": [
        "import numpy as np\n",
        "#numpy array arr is given\n",
        "print(arr.ndim,arr.size)"
      ],
      "execution_count": 20,
      "outputs": [
        {
          "output_type": "stream",
          "text": [
            "2 6\n"
          ],
          "name": "stdout"
        }
      ]
    },
    {
      "cell_type": "markdown",
      "metadata": {
        "id": "NuYLT3V_SHZB"
      },
      "source": [
        "Answer 4"
      ]
    },
    {
      "cell_type": "code",
      "metadata": {
        "id": "YhsrqqzdSIoS",
        "outputId": "41827b24-4f5c-4900-c1a8-976f5f2fa8a4",
        "colab": {
          "base_uri": "https://localhost:8080/"
        }
      },
      "source": [
        "import numpy as np\n",
        "arr=np.array([1,2,3,4,5,6,7,8,9,10])\n",
        "print(arr,arr.ndim,arr.shape,arr.size,sep=\"\\t\")\n",
        "#using newaxis\n",
        "arr1=arr[np.newaxis, :]\n",
        "print(arr1,arr1.ndim,arr1.shape,arr1.size,sep=\"\\t\")\n",
        "arr2=arr[:,np.newaxis]\n",
        "print(arr2,arr2.ndim,arr2.shape,arr2.size,sep=\"\\t\")"
      ],
      "execution_count": 27,
      "outputs": [
        {
          "output_type": "stream",
          "text": [
            "[ 1  2  3  4  5  6  7  8  9 10]\t1\t(10,)\t10\n",
            "[[ 1  2  3  4  5  6  7  8  9 10]]\t2\t(1, 10)\t10\n",
            "[[ 1]\n",
            " [ 2]\n",
            " [ 3]\n",
            " [ 4]\n",
            " [ 5]\n",
            " [ 6]\n",
            " [ 7]\n",
            " [ 8]\n",
            " [ 9]\n",
            " [10]]\t2\t(10, 1)\t10\n"
          ],
          "name": "stdout"
        }
      ]
    },
    {
      "cell_type": "code",
      "metadata": {
        "id": "qzeb_lBXXFbu",
        "outputId": "0376fb24-0d00-4402-ba4f-28469779db99",
        "colab": {
          "base_uri": "https://localhost:8080/"
        }
      },
      "source": [
        "#usind expand_dims\n",
        "arr1=np.expand_dims(arr,axis=0)\n",
        "print(arr1,arr1.ndim,arr1.shape,arr1.size,sep=\"\\t\")\n",
        "arr2=np.expand_dims(arr,axis=1)\n",
        "print(arr2,arr2.ndim,arr2.shape,arr2.size,sep=\"\\t\")"
      ],
      "execution_count": 30,
      "outputs": [
        {
          "output_type": "stream",
          "text": [
            "[[ 1  2  3  4  5  6  7  8  9 10]]\t2\t(1, 10)\t10\n",
            "[[ 1]\n",
            " [ 2]\n",
            " [ 3]\n",
            " [ 4]\n",
            " [ 5]\n",
            " [ 6]\n",
            " [ 7]\n",
            " [ 8]\n",
            " [ 9]\n",
            " [10]]\t2\t(10, 1)\t10\n"
          ],
          "name": "stdout"
        }
      ]
    },
    {
      "cell_type": "markdown",
      "metadata": {
        "id": "SCFwrwAlXohp"
      },
      "source": [
        "Answer 5"
      ]
    },
    {
      "cell_type": "code",
      "metadata": {
        "id": "R_dtJ5H3XqGg",
        "outputId": "9d0b0943-19d9-4750-d84d-7e0c500c3c67",
        "colab": {
          "base_uri": "https://localhost:8080/"
        }
      },
      "source": [
        "import numpy as np\n",
        "arr1=np.array([[1,2,3],[4,5,6],[7,8,9]])\n",
        "arr2=np.array([[9,8,7],[6,5,4],[3,2,1]])\n",
        "print(arr1)\n",
        "print(arr2)\n",
        "V_arr=np.vstack((arr1,arr2))\n",
        "H_arr=np.hstack((arr1,arr2))\n",
        "print(V_arr)\n",
        "print(H_arr)"
      ],
      "execution_count": 41,
      "outputs": [
        {
          "output_type": "stream",
          "text": [
            "[[1 2 3]\n",
            " [4 5 6]\n",
            " [7 8 9]]\n",
            "[[9 8 7]\n",
            " [6 5 4]\n",
            " [3 2 1]]\n",
            "[[1 2 3]\n",
            " [4 5 6]\n",
            " [7 8 9]\n",
            " [9 8 7]\n",
            " [6 5 4]\n",
            " [3 2 1]]\n",
            "[[1 2 3 9 8 7]\n",
            " [4 5 6 6 5 4]\n",
            " [7 8 9 3 2 1]]\n"
          ],
          "name": "stdout"
        }
      ]
    },
    {
      "cell_type": "markdown",
      "metadata": {
        "id": "YLjGepdNZsKD"
      },
      "source": [
        "Answer 6"
      ]
    },
    {
      "cell_type": "code",
      "metadata": {
        "id": "lGNjdVSqZt0B"
      },
      "source": [
        "import numpy as np\n",
        "arr=list(int(item) for item in input().split())\n",
        "unique,count = np.unique(arr, return_counts=True)\n",
        "print(unique,count)"
      ],
      "execution_count": null,
      "outputs": []
    }
  ]
}